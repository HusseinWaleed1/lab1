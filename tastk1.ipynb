{
  "nbformat": 4,
  "nbformat_minor": 0,
  "metadata": {
    "colab": {
      "provenance": [],
      "authorship_tag": "ABX9TyNI/bKNm8s6XLcuaq8wje7X",
      "include_colab_link": true
    },
    "kernelspec": {
      "name": "python3",
      "display_name": "Python 3"
    },
    "language_info": {
      "name": "python"
    }
  },
  "cells": [
    {
      "cell_type": "markdown",
      "metadata": {
        "id": "view-in-github",
        "colab_type": "text"
      },
      "source": [
        "<a href=\"https://colab.research.google.com/github/HusseinWaleed1/lab1/blob/main/tastk1.ipynb\" target=\"_parent\"><img src=\"https://colab.research.google.com/assets/colab-badge.svg\" alt=\"Open In Colab\"/></a>"
      ]
    },
    {
      "cell_type": "code",
      "execution_count": 5,
      "metadata": {
        "colab": {
          "base_uri": "https://localhost:8080/"
        },
        "id": "sMlf4623Xvcg",
        "outputId": "303d9896-4122-4e62-c1d5-05d1bfc3dddb"
      },
      "outputs": [
        {
          "output_type": "stream",
          "name": "stdout",
          "text": [
            "7\n",
            "*********************************************\n",
            "2\n",
            "*********************************************\n",
            "27\n",
            "*********************************************\n",
            "1.6666666666666667\n",
            "*********************************************\n",
            "1\n",
            "*********************************************\n",
            "2\n",
            "*********************************************\n",
            "change the variable to float \n",
            "3.0\n",
            "4.0\n",
            "5.0\n"
          ]
        }
      ],
      "source": [
        "num1=3\n",
        "num2=4\n",
        "num3=5\n",
        "print(num1+num2)\n",
        "print('*'*45)\n",
        "print(num3-num1)\n",
        "print('*'*45)\n",
        "print(num1*(num2+num3))\n",
        "print('*'*45)\n",
        "print(num3/num1)\n",
        "print('*'*45)\n",
        "print(num3//num1)\n",
        "print('*'*45)\n",
        "print(num3 % num1)\n",
        "print('*'*45)\n",
        "#change the variable to float\n",
        "print('change the variable to float ')\n",
        "print(float(num1))\n",
        "print(float(num2))\n",
        "print(float(num3))"
      ]
    },
    {
      "cell_type": "code",
      "source": [
        "x,y,z,g=1,2,3,4\n",
        "print(x+y*z/g)\n",
        "print('*'*45)\n",
        "print(y**z)"
      ],
      "metadata": {
        "colab": {
          "base_uri": "https://localhost:8080/"
        },
        "id": "pjDT4xKbmdH8",
        "outputId": "66e97e5a-0960-496d-cedc-ed5208d82221"
      },
      "execution_count": 7,
      "outputs": [
        {
          "output_type": "stream",
          "name": "stdout",
          "text": [
            "2.5\n",
            "*********************************************\n",
            "8\n"
          ]
        }
      ]
    },
    {
      "cell_type": "markdown",
      "source": [
        "Odd or Even\n",
        "Write a program that asks the user for a number and prints whether it’s odd or even.\n",
        "\n",
        "Pass or Fail\n",
        "Input a student’s score (0–100) and print \"Pass\" if it’s ≥ 50, else \"Fail\".\n",
        "\n",
        "Largest of 3 numbers\n",
        "Take 3 numbers as input and print the larger one.\n",
        "\n",
        "Counting with for\n",
        "Use a for loop to print numbers from 1 to 10.\n",
        "\n",
        "\n",
        "Grade Calculator\n",
        "Input a score and use if / elif / else to print a grade:\n",
        "• A: 90–100\n",
        "• B: 80–89\n",
        "• C: 70–79\n",
        "• D: 60–69\n",
        "• F: below 60\n",
        "\n",
        "Multiplication Table\n",
        "Ask the user for a number and print its multiplication table from 1 to 10 using a for loop.\n",
        "\n",
        "Sum of Even Numbers\n",
        "Use a loop to find the sum of all even numbers between 1 and 50.\n",
        "\n",
        "Factorial with while\n",
        "Ask the user for a number and calculate its factorial using a while loop."
      ],
      "metadata": {
        "id": "VRxeThxzpMes"
      }
    },
    {
      "cell_type": "code",
      "source": [
        "#Odd or Even Write a program that asks the user for a number and prints whether it’s odd or even.\n",
        "num=int(input('please Enter a Number'))\n",
        "if(num %2 == 0):\n",
        "  print(f'{num} is Even')\n",
        "else:\n",
        "  print(f'{num} is Odd')"
      ],
      "metadata": {
        "colab": {
          "base_uri": "https://localhost:8080/"
        },
        "id": "ASBx4OYNn64O",
        "outputId": "9a9a575a-2e80-481a-c927-6870113b653f"
      },
      "execution_count": 14,
      "outputs": [
        {
          "output_type": "stream",
          "name": "stdout",
          "text": [
            "please Enter a Number10\n",
            "10 is Even\n"
          ]
        }
      ]
    },
    {
      "cell_type": "markdown",
      "source": [
        "Pass or Fail Input a student’s score (0–100) and print \"Pass\" if it’s ≥ 50, else \"Fail\"."
      ],
      "metadata": {
        "id": "J8u1B4GMqtFz"
      }
    },
    {
      "cell_type": "code",
      "source": [
        "student_score=int(input('please Enter Your Score'))\n",
        "if(student_score >= 50):\n",
        "  print('pass')\n",
        "else:\n",
        "  print('fail')"
      ],
      "metadata": {
        "colab": {
          "base_uri": "https://localhost:8080/"
        },
        "id": "rP_wi3KjqQqz",
        "outputId": "73cc04c7-5866-41f8-8281-7ffe23e78913"
      },
      "execution_count": 15,
      "outputs": [
        {
          "output_type": "stream",
          "name": "stdout",
          "text": [
            "please Enter Your Score50\n",
            "pass\n"
          ]
        }
      ]
    },
    {
      "cell_type": "markdown",
      "source": [
        "Largest of 3 numbers Take 3 numbers as input and print the larger one"
      ],
      "metadata": {
        "id": "Sg3-LA_QrLhl"
      }
    },
    {
      "cell_type": "code",
      "source": [
        "n1 = 40\n",
        "n2 = 56\n",
        "n3 = 80\n",
        "\n",
        "if n1 >= n2 and n1 >= n3:\n",
        "    print(f'{n1} is the largest number')\n",
        "elif n2 >= n1 and n2 >= n3:\n",
        "    print(f'{n2} is the largest number')\n",
        "else:\n",
        "    print(f'{n3} is the largest number')\n"
      ],
      "metadata": {
        "colab": {
          "base_uri": "https://localhost:8080/"
        },
        "id": "LY9BxkixrG_2",
        "outputId": "b413a3ba-7f02-4bd2-8f04-297ee3ec9e9f"
      },
      "execution_count": 18,
      "outputs": [
        {
          "output_type": "stream",
          "name": "stdout",
          "text": [
            "80 is the largest number\n"
          ]
        }
      ]
    },
    {
      "cell_type": "markdown",
      "source": [
        "Counting with for Use a for loop to print numbers from 1 to 10"
      ],
      "metadata": {
        "id": "TZryCKNesqKY"
      }
    },
    {
      "cell_type": "code",
      "source": [
        "i=0\n",
        "for i in range(1,11):\n",
        "  print(i)"
      ],
      "metadata": {
        "colab": {
          "base_uri": "https://localhost:8080/"
        },
        "id": "ye3idpo7r9Yx",
        "outputId": "b0b8fc88-4b49-40bf-828d-196c3b6a586b"
      },
      "execution_count": 20,
      "outputs": [
        {
          "output_type": "stream",
          "name": "stdout",
          "text": [
            "1\n",
            "2\n",
            "3\n",
            "4\n",
            "5\n",
            "6\n",
            "7\n",
            "8\n",
            "9\n",
            "10\n"
          ]
        }
      ]
    },
    {
      "cell_type": "markdown",
      "source": [
        "Grade Calculator Input a score and use if / elif / else to print a grade: • A: 90–100 • B: 80–89 • C: 70–79 • D: 60–69 • F: below 60"
      ],
      "metadata": {
        "id": "TL0EOsCDsu1B"
      }
    },
    {
      "cell_type": "code",
      "source": [
        "grade=int(input('please enter your grade'))\n",
        "if(grade <= 100 and grade >=90):\n",
        "  print('The grade is A')\n",
        "elif(grade <= 89 and grade >=80):\n",
        "  print('The grade is B')\n",
        "elif(grade <= 79 and grade >=70):\n",
        "  print('The grade is C')\n",
        "elif(grade <= 69 and grade >=60):\n",
        "  print('The grade is D' )\n",
        "else:\n",
        "  print('The grade is F')"
      ],
      "metadata": {
        "colab": {
          "base_uri": "https://localhost:8080/"
        },
        "id": "knZC_7OIsjJB",
        "outputId": "5dc47a1f-f925-4124-e2c7-920189366d0b"
      },
      "execution_count": 22,
      "outputs": [
        {
          "output_type": "stream",
          "name": "stdout",
          "text": [
            "please enter your grade65\n",
            "The grade is D\n"
          ]
        }
      ]
    },
    {
      "cell_type": "code",
      "source": [
        "num = int(input(\"Enter a number: \"))\n",
        "\n",
        "for i in range(1, 11):\n",
        "    print(f\"{num} x {i} = {num * i}\")"
      ],
      "metadata": {
        "colab": {
          "base_uri": "https://localhost:8080/"
        },
        "id": "gR7JfViIttDU",
        "outputId": "246882a3-58af-41f3-e105-f91c088ab14d"
      },
      "execution_count": 23,
      "outputs": [
        {
          "output_type": "stream",
          "name": "stdout",
          "text": [
            "Enter a number: 1\n",
            "1 x 1 = 1\n",
            "1 x 2 = 2\n",
            "1 x 3 = 3\n",
            "1 x 4 = 4\n",
            "1 x 5 = 5\n",
            "1 x 6 = 6\n",
            "1 x 7 = 7\n",
            "1 x 8 = 8\n",
            "1 x 9 = 9\n",
            "1 x 10 = 10\n"
          ]
        }
      ]
    },
    {
      "cell_type": "code",
      "source": [
        "total = 0\n",
        "for i in range(2, 51, 2):\n",
        "    total += i\n",
        "\n",
        "print(\"Sum of even numbers between 1 and 50:\", total)\n"
      ],
      "metadata": {
        "colab": {
          "base_uri": "https://localhost:8080/"
        },
        "id": "O_xpVeJXuB_m",
        "outputId": "48c44137-ee74-4511-8a78-1e6c3c97d983"
      },
      "execution_count": 24,
      "outputs": [
        {
          "output_type": "stream",
          "name": "stdout",
          "text": [
            "Sum of even numbers between 1 and 50: 650\n"
          ]
        }
      ]
    },
    {
      "cell_type": "code",
      "source": [
        "num = int(input(\"Enter a number: \"))\n",
        "factorial = 1\n",
        "i = 1\n",
        "\n",
        "while i <= num:\n",
        "    factorial *= i\n",
        "    i += 1\n",
        "\n",
        "print(f\"Factorial of {num} is {factorial}\")\n"
      ],
      "metadata": {
        "colab": {
          "base_uri": "https://localhost:8080/"
        },
        "id": "GLQGVyEVuJW2",
        "outputId": "f077b720-6b3a-4b48-bdf7-62859248a4cb"
      },
      "execution_count": 25,
      "outputs": [
        {
          "output_type": "stream",
          "name": "stdout",
          "text": [
            "Enter a number: 2\n",
            "Factorial of 2 is 2\n"
          ]
        }
      ]
    },
    {
      "cell_type": "code",
      "source": [],
      "metadata": {
        "id": "zN__bx-QuJ_F"
      },
      "execution_count": null,
      "outputs": []
    }
  ]
}